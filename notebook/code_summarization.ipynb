{
  "nbformat": 4,
  "nbformat_minor": 0,
  "metadata": {
    "colab": {
      "provenance": []
    },
    "kernelspec": {
      "name": "python3",
      "display_name": "Python 3"
    },
    "language_info": {
      "name": "python"
    }
  },
  "cells": [
    {
      "cell_type": "markdown",
      "source": [
        "#get data"
      ],
      "metadata": {
        "id": "CSqjLJtvhdvy"
      }
    },
    {
      "cell_type": "code",
      "source": [
        "!gdown 1Y6A1SHDnoNA3L_kRZOy71wz7duApMhPx"
      ],
      "metadata": {
        "colab": {
          "base_uri": "https://localhost:8080/"
        },
        "id": "MotNls5HheMi",
        "outputId": "86f18769-c591-4f98-8779-1974c7c69fda"
      },
      "execution_count": 1,
      "outputs": [
        {
          "output_type": "stream",
          "name": "stdout",
          "text": [
            "Downloading...\n",
            "From: https://drive.google.com/uc?id=1Y6A1SHDnoNA3L_kRZOy71wz7duApMhPx\n",
            "To: /content/sum_sh.c\n",
            "\r  0% 0.00/1.27k [00:00<?, ?B/s]\r100% 1.27k/1.27k [00:00<00:00, 3.39MB/s]\n"
          ]
        }
      ]
    },
    {
      "cell_type": "code",
      "source": [
        "PATH = \"/content/sum_sh.c\""
      ],
      "metadata": {
        "id": "j2bVN8_RiKE7"
      },
      "execution_count": 2,
      "outputs": []
    },
    {
      "cell_type": "markdown",
      "source": [
        "#utils"
      ],
      "metadata": {
        "id": "RPeWkMf7SrmT"
      }
    },
    {
      "cell_type": "code",
      "source": [
        "import re"
      ],
      "metadata": {
        "id": "l-b2R7wJcK5N"
      },
      "execution_count": null,
      "outputs": []
    },
    {
      "cell_type": "code",
      "source": [
        "def detect_functions(code):\n",
        "    code = preprocess_code(code)\n",
        "\n",
        "\n",
        "\n",
        "    # Match lines that may contain function declarations\n",
        "    potential_function_lines = [\n",
        "        line for line in code.split('\\n') if re.match(r'\\s*[a-zA-Z_]\\w*\\s+[a-zA-Z_]\\w*\\s*\\([^)]*\\)\\s*{?', line)\n",
        "    ]\n",
        "\n",
        "    # Filter out lines starting with \"if\", \"else if\", or \"else\"\n",
        "    potential_function_lines = [\n",
        "        line for line in potential_function_lines if not re.match(r'\\s*(if|else if|else)\\s*\\(', line)\n",
        "    ]\n",
        "\n",
        "    function_names = []\n",
        "    for line in potential_function_lines:\n",
        "        match = re.match(r'\\s*[a-zA-Z_]\\w*\\s+([a-zA-Z_]\\w*)\\s*\\([^)]*\\)\\s*{?', line)\n",
        "        if match:\n",
        "            function_names.append(match.group(1))\n",
        "    return function_names"
      ],
      "metadata": {
        "id": "673_Z2MOWSN7"
      },
      "execution_count": null,
      "outputs": []
    },
    {
      "cell_type": "code",
      "source": [
        "def preprocess_code(code):\n",
        "    code = re.sub(r'/\\*.*?\\*/', '', code, flags=re.DOTALL)\n",
        "    code = re.sub(r'//.*', '', code)\n",
        "    return code"
      ],
      "metadata": {
        "id": "-in-DKgAWPgj"
      },
      "execution_count": null,
      "outputs": []
    },
    {
      "cell_type": "code",
      "source": [
        "def detect_conditions(code):\n",
        "    code = preprocess_code(code)\n",
        "    # Identify lines that may contain conditions\n",
        "    condition_lines = [line.strip() for line in code.split('\\n') if re.match(r'\\s*if\\s*\\(|\\s*else if\\s*\\(|\\s*else\\s*{?', line)]\n",
        "    condition_lines1 = [line.strip() for line in code.split('\\n') if re.match(r'\\s*(if|else if)\\s*[^{]*\\s*{?', line)]\n",
        "    condition_lines1 = [re.sub(r'\\([^)]*\\)', '', line) for line in condition_lines]\n",
        "    # Extract conditions and their nesting levels\n",
        "    conditions = []\n",
        "    current_indent = 0\n",
        "    for line in condition_lines:\n",
        "        match_if = re.match(r'\\s*if\\s*\\((.*)\\)\\s*{?', line)\n",
        "        match_elif = re.match(r'\\s*else if\\s*\\((.*)\\)\\s*{?', line)\n",
        "        match_else = re.match(r'\\s*else\\s*{?', line)\n",
        "\n",
        "        if match_if:\n",
        "            condition = {'type': 'if', 'condition': match_if.group(1), 'indent': current_indent}\n",
        "            conditions.append(condition)\n",
        "            current_indent += 1\n",
        "        elif match_elif:\n",
        "            condition = {'type': 'elif', 'condition': match_elif.group(1), 'indent': current_indent}\n",
        "            conditions.append(condition)\n",
        "        elif match_else:\n",
        "            condition = {'type': 'else', 'condition': None, 'indent': current_indent}\n",
        "            conditions.append(condition)\n",
        "            current_indent -= 1\n",
        "\n",
        "    return conditions"
      ],
      "metadata": {
        "id": "jJlc1JbcWMws"
      },
      "execution_count": null,
      "outputs": []
    },
    {
      "cell_type": "code",
      "source": [
        "def count_brackets(line):\n",
        "    opening_brackets = re.findall(r'{', line)\n",
        "    closing_brackets = re.findall(r'}', line)\n",
        "    return len(opening_brackets), len(closing_brackets)"
      ],
      "metadata": {
        "id": "-ia_qw5DQGdQ"
      },
      "execution_count": null,
      "outputs": []
    },
    {
      "cell_type": "code",
      "source": [
        "def extract_function(function, code):\n",
        "  declarations = [f\"{i} {function}\" for i in ['int', 'bool', 'float', 'double', 'void']]\n",
        "  flag = False\n",
        "  opening_count = 0\n",
        "  closing_count = 0\n",
        "  function_code = \"\"\"\"\"\"\n",
        "  for line in code:\n",
        "    if not flag:\n",
        "      for declaration in declarations:\n",
        "        if declaration in line:\n",
        "          flag=True\n",
        "          o, c = count_brackets(line)\n",
        "          opening_count += o\n",
        "          closing_count += c\n",
        "\n",
        "          function_code += line\n",
        "          break\n",
        "    else:\n",
        "      o, c = count_brackets(line)\n",
        "      opening_count += o\n",
        "      closing_count += c\n",
        "\n",
        "      function_code += line\n",
        "    if opening_count !=0 and opening_count == closing_count:\n",
        "      return {\"name\": function, \"body\": function_code}"
      ],
      "metadata": {
        "id": "tlZEBmjsSpdb"
      },
      "execution_count": null,
      "outputs": []
    },
    {
      "cell_type": "code",
      "source": [
        "def count_function_calls(code_content, function_name):\n",
        "    pattern = re.compile(r'\\b' + re.escape(function_name) + r'\\s*\\(')\n",
        "    matches = pattern.findall(code_content)\n",
        "    return len(matches)-1"
      ],
      "metadata": {
        "id": "OlfM8YLRUanG"
      },
      "execution_count": null,
      "outputs": []
    },
    {
      "cell_type": "code",
      "source": [
        "def detect_loops(code):\n",
        "    code = preprocess_code(code)\n",
        "    lines = code.split('\\n')\n",
        "\n",
        "    loops = []\n",
        "    current_indent = 0  # Track the current nesting level\n",
        "    indent_stack = []  # Stack to manage indent levels\n",
        "\n",
        "    for line in lines:\n",
        "        line = line.strip()\n",
        "\n",
        "        # Increase indent level when a '{' is found\n",
        "        if '{' in line:\n",
        "            indent_stack.append('{')\n",
        "            current_indent = len(indent_stack) - 1\n",
        "\n",
        "        # Detect 'for' and 'while' loops\n",
        "        match_for = re.match(r'\\s*for\\s*\\((.*)\\)\\s*{?', line)\n",
        "        match_while = re.match(r'\\s*while\\s*\\((.*)\\)\\s*{?', line)\n",
        "\n",
        "        if match_for or match_while:\n",
        "            loop_type = 'for' if match_for else 'while'\n",
        "            condition = match_for.group(1) if match_for else match_while.group(1)\n",
        "            loop = {'type': loop_type, 'condition': condition, 'indent': current_indent}\n",
        "            loops.append(loop)\n",
        "\n",
        "        # Decrease indent level when a '}' is found\n",
        "        if '}' in line:\n",
        "            if indent_stack and indent_stack[-1] == '{':\n",
        "                indent_stack.pop()\n",
        "            current_indent = len(indent_stack) - 1\n",
        "\n",
        "    return loops"
      ],
      "metadata": {
        "id": "oH2DuL0lVbb8"
      },
      "execution_count": null,
      "outputs": []
    },
    {
      "cell_type": "markdown",
      "source": [
        "#driver"
      ],
      "metadata": {
        "id": "mbQk3cw6Suu6"
      }
    },
    {
      "cell_type": "code",
      "source": [
        "function_details = []\n",
        "with open(PATH) as f:\n",
        "  code_lines = f.readlines()\n",
        "\n",
        "  code = ''\n",
        "  for line in code_lines:\n",
        "    code += \"\\n\"+line\n",
        "\n",
        "  code_string = preprocess_code(code)\n",
        "  functions = detect_functions(code_string)\n",
        "\n",
        "\n",
        "  for function in functions:\n",
        "    temp = extract_function(function, code_lines)\n",
        "    temp[\"call_count\"] = count_function_calls(code_string, function)\n",
        "\n",
        "    temp[\"conditions\"] = detect_conditions(temp[\"body\"])\n",
        "    temp[\"condition_count\"] = len(temp[\"conditions\"])\n",
        "\n",
        "    temp[\"loops\"] = detect_loops(temp[\"body\"])\n",
        "    temp[\"loop_count\"] = len(temp[\"loops\"])\n",
        "\n",
        "    function_details.append(temp)"
      ],
      "metadata": {
        "id": "JKAvrvl4KbDE"
      },
      "execution_count": null,
      "outputs": []
    },
    {
      "cell_type": "code",
      "source": [
        "for function in function_details:\n",
        "  print(f\"function name: {function['name']}\")\n",
        "\n",
        "  print(f\"this function was called {function['call_count']} times\")\n",
        "\n",
        "  print(f\"condition count: {function['condition_count']}\")\n",
        "  for condition in function['conditions']:\n",
        "    print(f\"\\tType: {condition['type']}, Condition: {condition['condition']}\")\n",
        "\n",
        "  print(f\"loop count; {function['loop_count']}\")\n",
        "  ind = 0\n",
        "  for loop in function['loops']:\n",
        "    ind = max(ind, loop['indent'])\n",
        "    print(f\"\\tType: {loop['type']}, Condition: {loop['condition']}, Indent: {loop['indent']}\")\n",
        "\n",
        "  print(f\"Time complexity: {'1' if ind == 0 else 'n^'+str(ind)}\")\n",
        "  print(\"\\n\\n\")"
      ],
      "metadata": {
        "id": "B5NeZ00cZxXj"
      },
      "execution_count": null,
      "outputs": []
    }
  ]
}